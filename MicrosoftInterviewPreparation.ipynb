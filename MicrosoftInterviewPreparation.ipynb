{
  "nbformat": 4,
  "nbformat_minor": 0,
  "metadata": {
    "colab": {
      "name": "MicrosoftInterviewPreparation.ipynb",
      "provenance": [],
      "collapsed_sections": [],
      "authorship_tag": "ABX9TyOh4PfbpAjfbgH8FmXOnns5",
      "include_colab_link": true
    },
    "kernelspec": {
      "name": "python3",
      "display_name": "Python 3"
    }
  },
  "cells": [
    {
      "cell_type": "markdown",
      "metadata": {
        "id": "view-in-github",
        "colab_type": "text"
      },
      "source": [
        "<a href=\"https://colab.research.google.com/github/stellahrotich/datastructuresandalgorithms/blob/main/MicrosoftInterviewPreparation.ipynb\" target=\"_parent\"><img src=\"https://colab.research.google.com/assets/colab-badge.svg\" alt=\"Open In Colab\"/></a>"
      ]
    },
    {
      "cell_type": "markdown",
      "metadata": {
        "id": "M7UFodz2qiJg"
      },
      "source": [
        "# **Microsoft Interview Questions**"
      ]
    },
    {
      "cell_type": "markdown",
      "metadata": {
        "id": "UsVVgfXUOFC8"
      },
      "source": [
        "##**Single Number**"
      ]
    },
    {
      "cell_type": "code",
      "metadata": {
        "id": "xXaYa6bsOJwj"
      },
      "source": [
        ""
      ],
      "execution_count": null,
      "outputs": []
    },
    {
      "cell_type": "markdown",
      "metadata": {
        "id": "Kv3hfOyxN4vH"
      },
      "source": [
        "## **Rotate Array**"
      ]
    },
    {
      "cell_type": "code",
      "metadata": {
        "id": "Y3N8LEXJN47T"
      },
      "source": [
        "# Time:  O(n)\n",
        "# Space: O(1)\n",
        "\n",
        "class Solution(object):\n",
        "    \"\"\"\n",
        "    :type nums: List[int]\n",
        "    :type k: int\n",
        "    :rtype: void Do not return anything, modify nums in-place instead.\n",
        "    \"\"\"\n",
        "    def rotate(self, nums, k):\n",
        "        def reverse(nums, start, end):\n",
        "            while start < end:\n",
        "                nums[start], nums[end - 1] = nums[end - 1], nums[start]\n",
        "                start += 1\n",
        "                end -= 1\n",
        "        k %= len(nums)\n",
        "        reverse(nums, 0, len(nums))\n",
        "        reverse(nums, 0, k)\n",
        "        reverse(nums, k, len(nums))"
      ],
      "execution_count": null,
      "outputs": []
    },
    {
      "cell_type": "markdown",
      "metadata": {
        "id": "8bdfLZFtDZi7"
      },
      "source": [
        "##**Left Rotate Array**"
      ]
    },
    {
      "cell_type": "code",
      "metadata": {
        "colab": {
          "base_uri": "https://localhost:8080/"
        },
        "id": "o4kpVb2hDjLf",
        "outputId": "f3f38aec-5dec-4037-aff0-4e6f1d1bfbea"
      },
      "source": [
        "def leftRotation(a, d, n):\n",
        "    i=0\n",
        "    while i < n:\n",
        "        print (a[(i+d)%n], end = ' ')\n",
        "        i+=1\n",
        "    return i\n",
        "\n",
        "if __name__ == '__main__':\n",
        "    a =[1, 2, 3, 4, 5, 6, 7]\n",
        "    d = 4\n",
        "    n = 7 or len(a)\n",
        "    leftRotation(a, d, n)"
      ],
      "execution_count": null,
      "outputs": [
        {
          "output_type": "stream",
          "text": [
            "5 6 7 1 2 3 4 "
          ],
          "name": "stdout"
        }
      ]
    },
    {
      "cell_type": "code",
      "metadata": {
        "colab": {
          "base_uri": "https://localhost:8080/"
        },
        "id": "LbIcNAFuDdms",
        "outputId": "8c2dd036-d178-40f4-e247-24120e6731b4"
      },
      "source": [
        "def rotate(l, n):\n",
        "    return l[n:] + l[:n]\n",
        "print(rotate([1, 2, 3, 4, 5], 2))\n",
        "#output : [3, 4, 5, 1, 2]"
      ],
      "execution_count": null,
      "outputs": [
        {
          "output_type": "stream",
          "text": [
            "[3, 4, 5, 1, 2]\n"
          ],
          "name": "stdout"
        }
      ]
    },
    {
      "cell_type": "markdown",
      "metadata": {
        "id": "lrN9gDPbwIrd"
      },
      "source": [
        "## **Remove Duplicates from Sorted Array**\n"
      ]
    },
    {
      "cell_type": "code",
      "metadata": {
        "id": "5Lyu_2P4wPT_"
      },
      "source": [
        "class Solution:\n",
        "    def removeDuplicates(self, nums): \n",
        "        if len(nums) == 0:\n",
        "            return 0\n",
        "        length = 1\n",
        "        previous = nums[0]\n",
        "        index = 1\n",
        "        for i in range(1,len(nums)):\n",
        "            if nums[i] != previous:\n",
        "                length += 1\n",
        "                previous = nums[i]\n",
        "                nums[index] = nums[i]\n",
        "                index+=1\n",
        "        return length"
      ],
      "execution_count": null,
      "outputs": []
    },
    {
      "cell_type": "code",
      "metadata": {
        "id": "WKBtPJR7zBSe"
      },
      "source": [
        "class Solution:\n",
        "    def removeDuplicatesNaive(self, nums):\n",
        "        res = []\n",
        "        for  i in range(len(nums)):\n",
        "          if i not in res:\n",
        "              res.append(i)\n",
        "        return res"
      ],
      "execution_count": null,
      "outputs": []
    },
    {
      "cell_type": "code",
      "metadata": {
        "id": "NMmcdoql0Q4d"
      },
      "source": [
        "#Do not allocate extra space\n",
        "class Solution:\n",
        "    def removeDuplicates(self, nums):\n",
        "        i = 0\n",
        "        for n in nums:\n",
        "            if i < 2 or n != nums[i - 2]:\n",
        "                nums[i] = n\n",
        "                i += 1\n",
        "        return i"
      ],
      "execution_count": null,
      "outputs": []
    },
    {
      "cell_type": "markdown",
      "metadata": {
        "id": "9gT4ZOeE4S2K"
      },
      "source": [
        "## **Best Time to Buy and Sell Stock II**\n"
      ]
    },
    {
      "cell_type": "code",
      "metadata": {
        "id": "MWplcleV4UoD"
      },
      "source": [
        "class Solution(object):\n",
        "    def maxProfit(self, prices):\n",
        "        \"\"\"\n",
        "        :type prices: List[int]\n",
        "        :rtype: int\n",
        "        \"\"\"\n",
        "        res = 0\n",
        "        for i in range(1, len(prices)):\n",
        "            if prices[i] > prices[i - 1]:\n",
        "                res += prices[i] - prices[i - 1]\n",
        "        return res"
      ],
      "execution_count": null,
      "outputs": []
    },
    {
      "cell_type": "markdown",
      "metadata": {
        "id": "_dyIs6n25lWL"
      },
      "source": [
        "##**Stock Buy Sell to Maximize Profit**"
      ]
    },
    {
      "cell_type": "code",
      "metadata": {
        "colab": {
          "base_uri": "https://localhost:8080/"
        },
        "id": "V6aGtXtU934A",
        "outputId": "4ae8bd5f-01be-4b46-dc47-42a95242a980"
      },
      "source": [
        "class Solution(object):\n",
        "   def maxProfit(self, prices):\n",
        "      \"\"\"\n",
        "      :type prices: List[int]\n",
        "      :rtype: int\n",
        "      \"\"\"\n",
        "      ans = 0\n",
        "      for i in range(1,len(prices)):\n",
        "         if prices[i] - prices[i-1] >0:\n",
        "            ans+=(prices[i] - prices[i-1])\n",
        "      return ans\n",
        "ob1 = Solution()\n",
        "print(ob1.maxProfit([7,2,5,8,6,3,1,4,5,4,7]))"
      ],
      "execution_count": null,
      "outputs": [
        {
          "output_type": "stream",
          "text": [
            "13\n"
          ],
          "name": "stdout"
        }
      ]
    },
    {
      "cell_type": "code",
      "metadata": {
        "colab": {
          "base_uri": "https://localhost:8080/"
        },
        "id": "Jt3lIAAX47GL",
        "outputId": "2f1d676c-2bfc-4a55-e3ea-1591c75e7d7b"
      },
      "source": [
        "# Function to return the maximum profitthat can be made after buying and selling the given stocks\n",
        "def maxProfit(price, start, end):\n",
        "\tif (end <= start):\n",
        "\t\treturn 0;\n",
        "\tprofit = 0;\n",
        "\t# The day at which the stockmust be bought\n",
        "\tfor i in range(start, end, 1):\n",
        "\t\t# The day at which the stock must be sold\n",
        "\t\tfor j in range(i+1, end+1):\n",
        "\t\t\t# If byuing the stock at ith day and selling it at jth day is profitable\n",
        "\t\t\tif (price[j] > price[i]):\t\n",
        "\t\t\t\t# Update the current profit\n",
        "\t\t\t\tcurr_profit = price[j] - price[i] +\\\n",
        "\t\t\t\t\t\t\tmaxProfit(price, start, i - 1)+ \\\n",
        "\t\t\t\t\t\t\tmaxProfit(price, j + 1, end);\n",
        "\t\t\t\t# Update the maximum profit so far\n",
        "\t\t\t\tprofit = max(profit, curr_profit);\n",
        "\treturn profit;\n",
        "if __name__ == '__main__':\n",
        "\tprice = [100, 180, 260, 310, 40, 535, 695];\n",
        "\tn = len(price);\n",
        "\tprint(maxProfit(price, 0, n - 1));"
      ],
      "execution_count": null,
      "outputs": [
        {
          "output_type": "stream",
          "text": [
            "865\n"
          ],
          "name": "stdout"
        }
      ]
    },
    {
      "cell_type": "code",
      "metadata": {
        "id": "Pk-rCaR0rlVE"
      },
      "source": [
        "\"\"\"\n",
        "Min Deletions to Make Frequency of Each Letter Unique\n",
        "Min Swaps to Make Palindrome\n",
        "Min Steps to Make Piles Equal Height\n",
        "Largest K such that both K and -K exist in array\n",
        "Max Length of a Concatenated String with Unique Characters\n",
        "Unique Integers That Sum Up To 0\n",
        "Partition array into N subsets with balanced sum\n",
        "Jump Game [Experienced]\n",
        "Meeting Rooms II\n",
        "Count Visible Nodes in Binary Tree\n",
        "Largest Alphabetic Character\n",
        "What is the best data structure for a phone book with names and phone numbers? Code an example solution and explain.\n",
        "Print values in a doubly linked list in descending order.\n",
        "Invert a binary search tree.\n",
        "Sort an array, stack, and queue in arrays and linked lists.\n",
        "Write a program that returns the acute angle between two hands on a clock.\n",
        "Keep track of the positions of people in a line. (Note that some questions asked are intentionally vague; ask clarifying questions. Can we consider this a sorted list? I.e. are they allowed to move around or not? What does that movement look like? That detail matters.)\n",
        "Remove duplicates in this list.\n",
        "Reverse a string\n",
        "Given two integers m and n, loop repeatedly through an array of m and remove each nth element. Return the last element left. (If m = 7 and n = 4, then begin with the array 1 2 3 4 5 6 7 and remove, in order, 4 1 6 5 2 7 and return 3.)\n",
        "Given an array of 0's and 1's, move all of the 0's to the beginning of the array and all of the 1's to the end of the array.\n",
        "Write a function that accepts an m x n matrix (array) of random numbers, and use the functions row (times) 2 and column-1 to set the entire array to 0.\n",
        "Solve a maze recursively.\n",
        "Solve the N Queens problem.\n",
        "Keep track of the X most recent entries to a list without duplicates (sometimes framed as a line problem).\n",
        "Find the longest palindrome in a string.\n",
        "\n",
        "\n",
        "\"\"\""
      ],
      "execution_count": null,
      "outputs": []
    },
    {
      "cell_type": "markdown",
      "metadata": {
        "id": "csjRICLhwY5Z"
      },
      "source": [
        "##**Valid Palindrome**"
      ]
    },
    {
      "cell_type": "code",
      "metadata": {
        "id": "OrqIS0jbwZJr"
      },
      "source": [
        "class Solution(object):\n",
        "    def isPalindrome(self, s):\n",
        "        \"\"\"\n",
        "        :type s: str\n",
        "        :rtype: bool\n",
        "        \"\"\"\n",
        "        l, r = 0, len(s) - 1\n",
        "        while l < r:\n",
        "            while l < r and not s[l].isalnum():\n",
        "                l += 1\n",
        "            while l < r and not s[r].isalnum():\n",
        "                r -= 1\n",
        "            if l < r:\n",
        "                if s[l].lower() != s[r].lower():\n",
        "                    return False\n",
        "                l += 1\n",
        "                r -= 1\n",
        "        return True"
      ],
      "execution_count": null,
      "outputs": []
    },
    {
      "cell_type": "markdown",
      "metadata": {
        "id": "mYAt2vzdwEg7"
      },
      "source": [
        "## **Reverse Integer**\n",
        "\n",
        "\n"
      ]
    },
    {
      "cell_type": "code",
      "metadata": {
        "id": "Z8xhbW_CwHDa"
      },
      "source": [
        "class Solution(object):\n",
        "    def reverse(self, x):\n",
        "        \"\"\"\n",
        "        :type x: int\n",
        "        :rtype: int\n",
        "        \"\"\"\n",
        "        if x < 0:\n",
        "            return -self.reverse(-x)\n",
        "        result = 0\n",
        "        while x:\n",
        "            result = result * 10 + x % 10\n",
        "            x //= 10\n",
        "        return result if result <= 0x7fffffff else 0 "
      ],
      "execution_count": null,
      "outputs": []
    },
    {
      "cell_type": "markdown",
      "metadata": {
        "id": "DtzedplyvYsE"
      },
      "source": [
        "## **Reverse String**"
      ]
    },
    {
      "cell_type": "code",
      "metadata": {
        "id": "Yqrf1CSsvY-u"
      },
      "source": [
        "class Solution(object):\n",
        "    def reverseString(self, s):\n",
        "        \"\"\"\n",
        "        :type s: List[str]\n",
        "        :rtype: None Do not return anything, modify s in-place instead.\n",
        "        \"\"\"\n",
        "        start, end = 0, len(s)-1\n",
        "        while start < end:\n",
        "            s[start], s[end] = s[end], s[start]\n",
        "            start += 1\n",
        "            end -= 1"
      ],
      "execution_count": null,
      "outputs": []
    },
    {
      "cell_type": "markdown",
      "metadata": {
        "id": "r_UX9BRKuiuY"
      },
      "source": [
        "##**Valid Anagram**"
      ]
    },
    {
      "cell_type": "code",
      "metadata": {
        "id": "Eli9bIHiuj2m"
      },
      "source": [
        "class Solution(object):\n",
        "    def isAnagram(self, s, t):\n",
        "        \"\"\"\n",
        "        :type s: str\n",
        "        :type t: str\n",
        "        :rtype: bool\n",
        "        \"\"\"\n",
        "        if len(s) != len(t):\n",
        "            return False\n",
        "        count = collections.defaultdict(int)\n",
        "        for c in s:\n",
        "            count[c] += 1\n",
        "        for c in t:\n",
        "            count[c] -= 1\n",
        "            if count[c] < 0:\n",
        "                return False\n",
        "        return True"
      ],
      "execution_count": null,
      "outputs": []
    },
    {
      "cell_type": "markdown",
      "metadata": {
        "id": "wtQuIUnvvGaM"
      },
      "source": [
        "## **Longest Common Prefix**"
      ]
    },
    {
      "cell_type": "code",
      "metadata": {
        "id": "GPfWtdDQvGlF"
      },
      "source": [
        "class Solution(object):\n",
        "    def longestCommonPrefix(self, strs):\n",
        "        \"\"\"\n",
        "        :type strs: List[str]\n",
        "        :rtype: str\n",
        "        \"\"\"\n",
        "        if not strs:\n",
        "            return \"\"\n",
        "        short_str = min(strs,key=len)\n",
        "        for i, char in enumerate(short_str):\n",
        "            for other in strs:\n",
        "                if other[i] != char:\n",
        "                    return short_str[:i]\n",
        "        return short_str "
      ],
      "execution_count": null,
      "outputs": []
    },
    {
      "cell_type": "markdown",
      "metadata": {
        "id": "6_bl1iFevShc"
      },
      "source": [
        ""
      ]
    },
    {
      "cell_type": "code",
      "metadata": {
        "id": "de8SUMTOvSo8"
      },
      "source": [
        ""
      ],
      "execution_count": null,
      "outputs": []
    },
    {
      "cell_type": "markdown",
      "metadata": {
        "id": "V_39tZIwxEss"
      },
      "source": [
        "##**Solve a maze recursively**"
      ]
    },
    {
      "cell_type": "code",
      "metadata": {
        "id": "A989gmNfxBGn"
      },
      "source": [
        "def searchFrom(maze, startRow, startColumn):\n",
        "    maze.updatePosition(startRow, startColumn)\n",
        "    if maze[startRow][startColumn] == OBSTACLE :\n",
        "        return False\n",
        "    if maze[startRow][startColumn] == TRIED or maze[startRow][startColumn] == DEAD_END:\n",
        "        return False\n",
        "    if maze.isExit(startRow,startColumn):\n",
        "        maze.updatePosition(startRow, startColumn, PART_OF_PATH)\n",
        "        return True\n",
        "    maze.updatePosition(startRow, startColumn, TRIED)\n",
        "    found = searchFrom(maze, startRow-1, startColumn) or \\\n",
        "    searchFrom(maze, startRow+1, startColumn) or \\\n",
        "    searchFrom(maze, startRow, startColumn-1) or \\\n",
        "    searchFrom(maze, startRow, startColumn+1)\n",
        "    if found:\n",
        "        maze.updatePosition(startRow, startColumn, PART_OF_PATH)\n",
        "    else:\n",
        "        maze.update"
      ],
      "execution_count": null,
      "outputs": []
    },
    {
      "cell_type": "markdown",
      "metadata": {
        "id": "9kqJiGdYW7EL"
      },
      "source": [
        "##**Minimum Coin Change**"
      ]
    },
    {
      "cell_type": "code",
      "metadata": {
        "colab": {
          "base_uri": "https://localhost:8080/"
        },
        "id": "F0xpU1YCyxDc",
        "outputId": "94e77e10-5633-4ae7-ab94-7ed0565b983d"
      },
      "source": [
        "def recMC(coinValueList,change):\n",
        "    minCoins = change\n",
        "    if change in coinValueList:\n",
        "        return 1\n",
        "    else:\n",
        "        for i in [c for c in coinValueList if c <= change]: numCoins = 1 + recMC(coinValueList,change-i)\n",
        "        if numCoins < minCoins:\n",
        "            minCoins = numCoins\n",
        "    return minCoins\n",
        "print(recMC([1,5,10,25],63))"
      ],
      "execution_count": null,
      "outputs": [
        {
          "output_type": "stream",
          "text": [
            "6\n"
          ],
          "name": "stdout"
        }
      ]
    },
    {
      "cell_type": "code",
      "metadata": {
        "colab": {
          "base_uri": "https://localhost:8080/"
        },
        "id": "p2OVaDfTzZI0",
        "outputId": "04285c4b-d779-45c6-8614-75dcf2522306"
      },
      "source": [
        "def recDC(coinValueList,change,knownResults):\n",
        "    minCoins = change\n",
        "    if change in coinValueList:\n",
        "        knownResults[change] = 1\n",
        "        return 1\n",
        "    elif knownResults[change] > 0:\n",
        "        return knownResults[change]\n",
        "    else:\n",
        "        for i in [c for c in coinValueList if c <= change]:\n",
        "            numCoins = 1 + recDC(coinValueList, change-i,knownResults)\n",
        "        if numCoins < minCoins:\n",
        "            minCoins = numCoins\n",
        "            knownResults[change] = minCoins\n",
        "    return minCoins\n",
        "\n",
        "print(recDC([1,5,10,25],63,[0]*64))"
      ],
      "execution_count": null,
      "outputs": [
        {
          "output_type": "stream",
          "text": [
            "6\n"
          ],
          "name": "stdout"
        }
      ]
    },
    {
      "cell_type": "code",
      "metadata": {
        "id": "1CzjPswW0Hzi"
      },
      "source": [
        "def dpMakeChange(coinValueList,change,minCoins):\n",
        "    for cents in range(change+1):\n",
        "        coinCount = cents\n",
        "    for j in [c for c in coinValueList if c <= cents]:\n",
        "        if minCoins[cents-j] + 1 < coinCount:\n",
        "            coinCount = minCoins[cents-j]+1\n",
        "            minCoins[cents] = coinCount\n",
        "    return minCoins[change]"
      ],
      "execution_count": null,
      "outputs": []
    },
    {
      "cell_type": "code",
      "metadata": {
        "id": "8_W9KeXK0YjV"
      },
      "source": [
        "\n",
        "def dpMakeChange(coinValueList,change,minCoins,coinsUsed):\n",
        "    for cents in range(change+1):\n",
        "      coinCount = cents\n",
        "      newCoin = 1\n",
        "    for j in [c for c in coinValueList if c <= cents]:\n",
        "    if minCoins[cents-j] + 1 < coinCount:\n",
        "    coinCount = minCoins[cents-j]+1\n",
        "    newCoin = j\n",
        "    minCoins[cents] = coinCount\n",
        "    coinsUsed[cents] = newC"
      ],
      "execution_count": null,
      "outputs": []
    },
    {
      "cell_type": "markdown",
      "metadata": {
        "id": "E6S2QtA7DV7K"
      },
      "source": [
        "### **Merge two sorted linked lists and return it as a sorted list. The list should be made by splicing together the nodes of the first two lists.**"
      ]
    },
    {
      "cell_type": "code",
      "metadata": {
        "id": "2gzoByq2X8j3"
      },
      "source": [
        "class Solution:\n",
        "    def mergeTwoLists(self, l1, l2):\n",
        "        dummy = ListNode(0)\n",
        "        pre = dummy\n",
        "        while l1 and l2:\n",
        "            if l1.val < l2.val:\n",
        "                pre.next = l1\n",
        "                l1 = l1.next\n",
        "            else:\n",
        "                pre.next = l2\n",
        "                l2 = l2.next\n",
        "            pre = pre.next\n",
        "        pre.next = l1 if l1 is not None else l2\n",
        "        return dummy.next"
      ],
      "execution_count": null,
      "outputs": []
    },
    {
      "cell_type": "markdown",
      "metadata": {
        "id": "zvi0r-X3M-Ei"
      },
      "source": [
        "You are given an array prices where prices[i] is the price of a given stock on the ith day.You want to maximize your profit by choosing a single day to buy one stock and choosing a different day in the future to sell that stock.\n",
        "Return the maximum profit you can achieve from this transaction. If you cannot achieve any profit, return 0.\n",
        "\n",
        "\n",
        "---\n",
        "\n",
        "\n",
        "Example 1:\n",
        "Input: prices = [7,1,5,3,6,4]\n",
        "Output: 5\n",
        "Explanation: Buy on day 2 (price = 1) and sell on day 5 (price = 6), profit = 6-1 = 5.\n",
        "Note that buying on day 2 and selling on day 1 is not allowed because you must buy before you sell."
      ]
    },
    {
      "cell_type": "code",
      "metadata": {
        "id": "ed_OuKJaNIKP"
      },
      "source": [
        "class Solution(object):\n",
        "    def maxProfit(self, prices):\n",
        "        \"\"\"\n",
        "        :type prices: List[int]\n",
        "        :rtype: int\n",
        "        \"\"\"\n",
        "        max_profit, min_price = 0, float(\"inf\")\n",
        "        for price in prices:\n",
        "            min_price = min(min_price, price)\n",
        "            max_profit = max(max_profit, price - min_price)\n",
        "        return max_profit"
      ],
      "execution_count": null,
      "outputs": []
    },
    {
      "cell_type": "markdown",
      "metadata": {
        "id": "WKNbB4JGN0EP"
      },
      "source": [
        "## **Best Time to Buy and Sell Stock II**\n",
        "Say you have an array prices for which the ith element is the price of a given stock on day i.\n",
        "\n",
        "Design an algorithm to find the maximum profit. You may complete as many transactions as you like (i.e., buy one and sell one share of the stock multiple times).\n",
        "\n",
        "Note: You may not engage in multiple transactions at the same time (i.e., you must sell the stock before you buy again).\n",
        "Example 1:\n",
        "\n",
        "Input: [7,1,5,3,6,4]\n",
        "Output: 7\n",
        "Explanation: Buy on day 2 (price = 1) and sell on day 3 (price = 5), profit = 5-1 = 4.\n",
        "             Then buy on day 4 (price = 3) and sell on day 5 (price = 6), profit = 6-3 = 3.\n",
        "Example 2:\n",
        "\n",
        "Input: [1,2,3,4,5]\n",
        "Output: 4\n",
        "Explanation: Buy on day 1 (price = 1) and sell on day 5 (price = 5), profit = 5-1 = 4.\n",
        "             Note that you cannot buy on day 1, buy on day 2 and sell them later, as you are\n",
        "             engaging multiple transactions at the same time. You must sell before buying again.\n",
        "Example 3:\n",
        "\n",
        "Input: [7,6,4,3,1]\n",
        "Output: 0\n",
        "Explanation: In this case, no transaction is done, i.e. max profit = 0.\n",
        " \n",
        "\n",
        "Constraints:\n",
        "\n",
        "1 <= prices.length <= 3 * 10 ^ 4\n",
        "0 <= prices[i] <= 10 ^ 4"
      ]
    },
    {
      "cell_type": "code",
      "metadata": {
        "id": "NM3q5pjEN9cX"
      },
      "source": [
        "class Solution(object):\n",
        "    def maxProfit(self, prices):\n",
        "        \"\"\"\n",
        "        :type prices: List[int]\n",
        "        :rtype: int\n",
        "        \"\"\"\n",
        "        res = 0\n",
        "        for i in range(1, len(prices)):\n",
        "            if prices[i] > prices[i - 1]:\n",
        "                res += prices[i] - prices[i - 1]\n",
        "        return res"
      ],
      "execution_count": null,
      "outputs": []
    },
    {
      "cell_type": "markdown",
      "metadata": {
        "id": "mVPTOhokPKhP"
      },
      "source": [
        "## **Valid Palindrome**"
      ]
    },
    {
      "cell_type": "code",
      "metadata": {
        "id": "HV5dBn5TPNCV"
      },
      "source": [
        "class Solution(object):\n",
        "    def isPalindrome(self, s):\n",
        "        \"\"\"\n",
        "        :type s: str\n",
        "        :rtype: bool\n",
        "        \"\"\"\n",
        "        l, r = 0, len(s) - 1\n",
        "        while l < r:\n",
        "            while l < r and not s[l].isalnum():\n",
        "                l += 1\n",
        "            while l < r and not s[r].isalnum():\n",
        "                r -= 1\n",
        "            if l < r:\n",
        "                if s[l].lower() != s[r].lower():\n",
        "                    return False\n",
        "                l += 1\n",
        "                r -= 1\n",
        "        return True"
      ],
      "execution_count": null,
      "outputs": []
    },
    {
      "cell_type": "markdown",
      "metadata": {
        "id": "tKZ9urB9PpON"
      },
      "source": [
        "## **Longest Palindrome**\n",
        "Given a string which consists of lowercase or uppercase letters, find the length of the longest palindromes that can be built with those letters.\n",
        "\n",
        "This is case sensitive, for example “Aa” is not considered a palindrome here."
      ]
    },
    {
      "cell_type": "code",
      "metadata": {
        "id": "fWhsDLi5S4R5"
      },
      "source": [
        "class Solution(object):\n",
        "    def longestPalindrome(self, s):\n",
        "        \"\"\"\n",
        "        :type s: str\n",
        "        :rtype: int\n",
        "        \"\"\"\n",
        "        c = Counter(s)\n",
        "        res = 0\n",
        "        f = 0\n",
        "        for i in c.values():\n",
        "            if i % 2 == 0:\n",
        "                res += i\n",
        "            else:\n",
        "                res += i - 1\n",
        "                f = 1\n",
        "        return res + f  "
      ],
      "execution_count": null,
      "outputs": []
    },
    {
      "cell_type": "markdown",
      "metadata": {
        "id": "sfwKTZ7nVqqY"
      },
      "source": [
        "### **Reverse Integer**"
      ]
    },
    {
      "cell_type": "code",
      "metadata": {
        "id": "wj03QqFVWgEq"
      },
      "source": [
        "class Solution(object):\n",
        "    def reverse(self, x):\n",
        "        \"\"\"\n",
        "        :type x: int\n",
        "        :rtype: int\n",
        "        \"\"\"\n",
        "        if x < 0:\n",
        "            return -1\n",
        "\n",
        "        result = 0\n",
        "        while x:\n",
        "            rem = x%10\n",
        "            result = result * 10 + rem\n",
        "            x //= 10\n",
        "        return result if result <= 0x7fffffff else 0 "
      ],
      "execution_count": null,
      "outputs": []
    },
    {
      "cell_type": "code",
      "metadata": {
        "id": "wknmVzZdVtPo"
      },
      "source": [
        "class Solution(object):\n",
        "    def reverse(self, x):\n",
        "        \"\"\"\n",
        "        :type x: int\n",
        "        :rtype: int\n",
        "        \"\"\"\n",
        "        if x < 0:\n",
        "            x = int(str(x)[::-1][-1] + str(x)[::-1][:-1])\n",
        "        else:\n",
        "            x = int(str(x)[::-1])\n",
        "        x = 0 if abs(x) > 0x7FFFFFFF else x\n",
        "        return x"
      ],
      "execution_count": null,
      "outputs": []
    },
    {
      "cell_type": "markdown",
      "metadata": {
        "id": "8GCm4zWgaSNN"
      },
      "source": [
        ""
      ]
    },
    {
      "cell_type": "code",
      "metadata": {
        "id": "88zIbNAtWgq5"
      },
      "source": [
        "# Time:  O(n) Space: O(1)\n",
        "class Solution(object):\n",
        "    def maxProfit(self, prices):\n",
        "        max_profit, min_price = 0, float(\"inf\")\n",
        "        for price in prices:\n",
        "            min_price = min(min_price, price)\n",
        "            max_profit = max(max_profit, price - min_price)\n",
        "        return max_profit"
      ],
      "execution_count": null,
      "outputs": []
    }
  ]
}