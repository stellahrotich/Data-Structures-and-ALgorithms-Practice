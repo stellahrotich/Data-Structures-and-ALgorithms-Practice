{
  "nbformat": 4,
  "nbformat_minor": 0,
  "metadata": {
    "colab": {
      "name": "DataStructures.ipynb",
      "provenance": [],
      "collapsed_sections": [],
      "authorship_tag": "ABX9TyN7SzQbI9LpMwqtp7UoRG+N",
      "include_colab_link": true
    },
    "kernelspec": {
      "name": "python3",
      "display_name": "Python 3"
    }
  },
  "cells": [
    {
      "cell_type": "markdown",
      "metadata": {
        "id": "view-in-github",
        "colab_type": "text"
      },
      "source": [
        "<a href=\"https://colab.research.google.com/github/stellahrotich/datastructuresandalgorithms/blob/main/DataStructures.ipynb\" target=\"_parent\"><img src=\"https://colab.research.google.com/assets/colab-badge.svg\" alt=\"Open In Colab\"/></a>"
      ]
    },
    {
      "cell_type": "markdown",
      "metadata": {
        "id": "u4ToNuZpPHb-"
      },
      "source": [
        "## **GRAPHS**"
      ]
    },
    {
      "cell_type": "markdown",
      "metadata": {
        "id": "I4VzwMKGPW9l"
      },
      "source": [
        "### **Create Graphs**"
      ]
    },
    {
      "cell_type": "code",
      "metadata": {
        "colab": {
          "base_uri": "https://localhost:8080/"
        },
        "id": "Mu44BH-rPWDe",
        "outputId": "7ad3f232-dcda-41d4-ffe0-f791cfa8c89c"
      },
      "source": [
        "class graph:\n",
        "    def __init__(self,gdict=None):\n",
        "        if gdict is None:\n",
        "            gdict = []\n",
        "        self.gdict = gdict\n",
        "\n",
        "# Get the keys of the dictionary\n",
        "    def getVertices(self):\n",
        "        return list(self.gdict.keys())\n",
        "        \n",
        "# Create the dictionary with graph elements\n",
        "graph_elements = { \"a\" : [\"b\",\"c\"],\n",
        "                \"b\" : [\"a\", \"d\"],\n",
        "                \"c\" : [\"a\", \"d\"],\n",
        "                \"d\" : [\"e\"],\n",
        "                \"e\" : [\"d\"]\n",
        "                }\n",
        "g = graph(graph_elements)\n",
        "print(g.getVertices())"
      ],
      "execution_count": null,
      "outputs": [
        {
          "output_type": "stream",
          "text": [
            "['a', 'b', 'c', 'd', 'e']\n"
          ],
          "name": "stdout"
        }
      ]
    },
    {
      "cell_type": "markdown",
      "metadata": {
        "id": "8qAYyPVaQIyC"
      },
      "source": [
        "### **Add Vertex**"
      ]
    },
    {
      "cell_type": "code",
      "metadata": {
        "id": "OZlqlhIXQHw8"
      },
      "source": [
        "class graph:\n",
        "\n",
        "    def __init__(self,gdict=None):\n",
        "        if gdict is None:\n",
        "            gdict = {}\n",
        "        self.gdict = gdict\n",
        "\n",
        "    def edges(self):\n",
        "        return self.findedges()\n",
        "# Find the distinct list of edges\n",
        "\n",
        "    def findedges(self):\n",
        "        edgename = []\n",
        "        for vrtx in self.gdict:\n",
        "            for nxtvrtx in self.gdict[vrtx]:\n",
        "                if {nxtvrtx, vrtx} not in edgename:\n",
        "                    edgename.append({vrtx, nxtvrtx})\n",
        "        return edgename\n",
        "\n",
        "# Create the dictionary with graph elements\n",
        "graph_elements = { \"a\" : [\"b\",\"c\"],\n",
        "                \"b\" : [\"a\", \"d\"],\n",
        "                \"c\" : [\"a\", \"d\"],\n",
        "                \"d\" : [\"e\"],\n",
        "                \"e\" : [\"d\"]\n",
        "                }\n",
        "\n",
        "g = graph(graph_elements)\n",
        "\n",
        "print(g.edges())"
      ],
      "execution_count": null,
      "outputs": []
    },
    {
      "cell_type": "markdown",
      "metadata": {
        "id": "1azDFhXeQV6r"
      },
      "source": [
        "### **Add Edge**"
      ]
    },
    {
      "cell_type": "code",
      "metadata": {
        "id": "e7EyZi94QU5G"
      },
      "source": [
        "class graph:\n",
        "\n",
        "    def __init__(self,gdict=None):\n",
        "        if gdict is None:\n",
        "            gdict = {}\n",
        "        self.gdict = gdict\n",
        "\n",
        "    def edges(self):\n",
        "        return self.findedges()\n",
        "# Add the new edge\n",
        "\n",
        "    def AddEdge(self, edge):\n",
        "        edge = set(edge)\n",
        "        (vrtx1, vrtx2) = tuple(edge)\n",
        "        if vrtx1 in self.gdict:\n",
        "            self.gdict[vrtx1].append(vrtx2)\n",
        "        else:\n",
        "            self.gdict[vrtx1] = [vrtx2]\n",
        "\n",
        "# List the edge names\n",
        "    def findedges(self):\n",
        "        edgename = []\n",
        "        for vrtx in self.gdict:\n",
        "            for nxtvrtx in self.gdict[vrtx]:\n",
        "                if {nxtvrtx, vrtx} not in edgename:\n",
        "                    edgename.append({vrtx, nxtvrtx})\n",
        "        return edgename\n",
        "\n",
        "# Create the dictionary with graph elements\n",
        "graph_elements = { \"a\" : [\"b\",\"c\"],\n",
        "                \"b\" : [\"a\", \"d\"],\n",
        "                \"c\" : [\"a\", \"d\"],\n",
        "                \"d\" : [\"e\"],\n",
        "                \"e\" : [\"d\"]\n",
        "                }\n",
        "\n",
        "g = graph(graph_elements)\n",
        "g.AddEdge({'a','e'})\n",
        "g.AddEdge({'a','c'})\n",
        "print(g.edges())"
      ],
      "execution_count": null,
      "outputs": []
    },
    {
      "cell_type": "markdown",
      "metadata": {
        "id": "lZ-v8Xhqd0mg"
      },
      "source": [
        "# **BINARY TREES**"
      ]
    },
    {
      "cell_type": "markdown",
      "metadata": {
        "id": "bXmUnAIDwWFn"
      },
      "source": [
        "## **Tree Traversals** \n",
        "**Inorder, Preoder and Postorder**"
      ]
    },
    {
      "cell_type": "code",
      "metadata": {
        "id": "5dmbudZ43K7D"
      },
      "source": [
        "class Node: \n",
        "    def __init__(self, data): \n",
        "      self.left = None\n",
        "      self.right = None\n",
        "      self.data = data \n",
        "    def inorderTraversal(self, root):\n",
        "        res= []\n",
        "        if root:\n",
        "            res = self.inorderTraversal(root.left)\n",
        "            res.append(root.data)\n",
        "            res =  + self.inorderTraversal(root.right)\n",
        "        return resres"
      ],
      "execution_count": null,
      "outputs": []
    },
    {
      "cell_type": "code",
      "metadata": {
        "id": "Vy7kKXnA5nFP"
      },
      "source": [
        "def postorderTraversal(self, root):\n",
        "    res = []\n",
        "    if root:\n",
        "      res = self.postorderTraversal(root.left)\n",
        "      res = res + self.postorderTraversal(root.right)\n",
        "      res.append(root.data)\n",
        "    return res"
      ],
      "execution_count": null,
      "outputs": []
    },
    {
      "cell_type": "code",
      "metadata": {
        "id": "c7vUmTGj6XU9"
      },
      "source": [
        "def preorderTraversal(self, root):\n",
        "    res = []\n",
        "    if root:\n",
        "      res.append(root.data)\n",
        "      res = self.postorderTraversal(root.left)\n",
        "      res = res + self.postorderTraversal(root.right)\n",
        "    return res"
      ],
      "execution_count": null,
      "outputs": []
    },
    {
      "cell_type": "code",
      "metadata": {
        "colab": {
          "base_uri": "https://localhost:8080/"
        },
        "id": "OatFlTs_xW4m",
        "outputId": "858979e9-a019-44fb-d4f9-295fd077adf3"
      },
      "source": [
        "class Node: \n",
        "\tdef __init__(self,key): \n",
        "\t\tself.left = None\n",
        "\t\tself.right = None\n",
        "\t\tself.val = key \n",
        "\n",
        "# A function to do inorder tree traversal \n",
        "def printInorder(root): \n",
        "\tif root: \t\t\n",
        "\t\tprintInorder(root.left) \n",
        "\t\tprint(root.val), \n",
        "\t\tprintInorder(root.right) \n",
        "  \n",
        "# A function to do postorder tree traversal \n",
        "def printPostorder(root): \n",
        "\tif root: \n",
        "\t\tprintPostorder(root.left) \n",
        "\t\tprintPostorder(root.right) \n",
        "\t\tprint(root.val), \n",
        "\n",
        "# A function to do preorder tree traversal \n",
        "def printPreorder(root): \n",
        "\tif root: \n",
        "\t\tprint(root.val), \n",
        "\t\tprintPreorder(root.left) \n",
        "\t\tprintPreorder(root.right)\n",
        "   \n",
        "# Driver code \n",
        "root = Node(1) \n",
        "root.left\t = Node(2) \n",
        "root.right\t = Node(3) \n",
        "root.left.left = Node(4) \n",
        "root.left.right = Node(5) \n",
        "print (\"\\nPreorder traversal of binary tree is\")\n",
        "printPreorder(root) \n",
        "print (\"\\nInorder traversal of binary tree is\")\n",
        "printInorder(root) \n",
        "print (\"\\nPostorder traversal of binary tree is\")\n",
        "printPostorder(root) \n"
      ],
      "execution_count": null,
      "outputs": [
        {
          "output_type": "stream",
          "text": [
            "\n",
            "Preorder traversal of binary tree is\n",
            "1\n",
            "2\n",
            "4\n",
            "5\n",
            "3\n",
            "\n",
            "Inorder traversal of binary tree is\n",
            "4\n",
            "2\n",
            "5\n",
            "1\n",
            "3\n",
            "\n",
            "Postorder traversal of binary tree is\n",
            "4\n",
            "5\n",
            "2\n",
            "3\n",
            "1\n"
          ],
          "name": "stdout"
        }
      ]
    },
    {
      "cell_type": "code",
      "metadata": {
        "id": "I7DjdJJBLK4J"
      },
      "source": [
        "# Time:  O(n) Space: O(1)\n",
        "class TreeNode(object):\n",
        "    def __init__(self, x):\n",
        "        self.val = x\n",
        "        self.left = None\n",
        "        self.right = None\n",
        "# Morris Traversal Solution\n",
        "class Solution(object):\n",
        "    def inorderTraversal(self, root):\n",
        "        \"\"\"\n",
        "        :type root: TreeNode\n",
        "        :rtype: List[int]\n",
        "        \"\"\"\n",
        "        result, curr = [], root\n",
        "        while curr:\n",
        "            if curr.left is None:\n",
        "                result.append(curr.val)\n",
        "                curr = curr.right\n",
        "            else:\n",
        "                node = curr.left\n",
        "                while node.right and node.right != curr:\n",
        "                    node = node.right\n",
        "\n",
        "                if node.right is None:\n",
        "                    node.right = curr\n",
        "                    curr = curr.left\n",
        "                else:\n",
        "                    result.append(curr.val)\n",
        "                    node.right = None\n",
        "                    curr = curr.right\n",
        "        return result"
      ],
      "execution_count": null,
      "outputs": []
    },
    {
      "cell_type": "code",
      "metadata": {
        "id": "7pmm7YX3LUDe"
      },
      "source": [
        "# Time:  O(n) Space: O(h)\n",
        "# Stack Solution\n",
        "class Solution2(object):\n",
        "    def inorderTraversal(self, root):\n",
        "        \"\"\"\n",
        "        :type root: TreeNode\n",
        "        :rtype: List[int]\n",
        "        \"\"\"\n",
        "        result, stack = [], [(root, False)]\n",
        "        while stack:\n",
        "            root, is_visited = stack.pop()\n",
        "            if root is None:\n",
        "                continue\n",
        "            if is_visited:\n",
        "                result.append(root.val)\n",
        "            else:\n",
        "                stack.append((root.right, False))\n",
        "                stack.append((root, True))\n",
        "                stack.append((root.left, False))\n",
        "        return result"
      ],
      "execution_count": null,
      "outputs": []
    },
    {
      "cell_type": "markdown",
      "metadata": {
        "id": "t04ERj_fIDqn"
      },
      "source": [
        "## **Zigzag traversal of binary tree**"
      ]
    },
    {
      "cell_type": "code",
      "metadata": {
        "colab": {
          "base_uri": "https://localhost:8080/"
        },
        "id": "efitcN2EIEA0",
        "outputId": "78d29528-34d5-41e0-a63b-93a8ca5c084d"
      },
      "source": [
        "class Node: \n",
        "    def __init__(self, data): \n",
        "        self.data = data \n",
        "        self.left = self.right = None\n",
        "   \n",
        "# function to print zigzag traversal of binary tree \n",
        "def zizagtraversal(root): \n",
        "    if root is None: \n",
        "        return\n",
        "    # Create two stacks to store current and next level \n",
        "    currentLevel = [] \n",
        "    nextLevel = []  \n",
        "    ltr = True \n",
        "    currentLevel.append(root) \n",
        "    # Check if stack is empty \n",
        "    while len(currentLevel) > 0: \n",
        "        temp = currentLevel.pop(-1) \n",
        "        print(temp.data, \" \", end=\"\") \n",
        "        if ltr: \n",
        "            if temp.left: \n",
        "                nextLevel.append(temp.left) \n",
        "            if temp.right: \n",
        "                nextLevel.append(temp.right) \n",
        "        else: \n",
        "            if temp.right: \n",
        "                nextLevel.append(temp.right) \n",
        "            if temp.left: \n",
        "                nextLevel.append(temp.left) \n",
        "  \n",
        "        if len(currentLevel) == 0: \n",
        "            ltr = not ltr \n",
        "            currentLevel, nextLevel = nextLevel, currentLevel \n",
        "# Driver program to check above function \n",
        "root = Node(1) \n",
        "root.left = Node(2) \n",
        "root.right = Node(3) \n",
        "root.left.left = Node(7) \n",
        "root.left.right = Node(6) \n",
        "root.right.left = Node(5) \n",
        "root.right.right = Node(4) \n",
        "print(\"Zigzag Order traversal of binary tree is\") \n",
        "zizagtraversal(root) "
      ],
      "execution_count": null,
      "outputs": [
        {
          "output_type": "stream",
          "text": [
            "Zigzag Order traversal of binary tree is\n",
            "1  3  2  7  6  5  4  "
          ],
          "name": "stdout"
        }
      ]
    },
    {
      "cell_type": "markdown",
      "metadata": {
        "id": "nw_MQ3Njd8lw"
      },
      "source": [
        "## **Check if a BST is a valid**\n"
      ]
    },
    {
      "cell_type": "code",
      "metadata": {
        "id": "Wc3GSOHGklAq"
      },
      "source": [
        "import sys\n",
        "class TreeNode(object):\n",
        "    def __init__(self, val=0, left=None, right=None):\n",
        "        self.val = val\n",
        "        self.left = left\n",
        "        self.right = right\n",
        "        \n",
        "class Solution(object):\n",
        "    def isValidBST(self, root):\n",
        "        \"\"\"\n",
        "        :type root: TreeNode\n",
        "        :rtype: bool\n",
        "        \"\"\"\n",
        "        def check(root, l, r):\n",
        "            if root == None:\n",
        "                return True\n",
        "            val = root.val\n",
        "            if val <= l or val >= r:\n",
        "                return False\n",
        "            return check(root.left, l, val) and check(root.right, val, r)\n",
        "        return check(root, float('-inf'), float('inf'))"
      ],
      "execution_count": null,
      "outputs": []
    },
    {
      "cell_type": "code",
      "metadata": {
        "colab": {
          "base_uri": "https://localhost:8080/"
        },
        "id": "A37JL8mWeEer",
        "outputId": "9d97a576-94ec-4154-8ebe-7469167b0946"
      },
      "source": [
        "import sys\n",
        "# Node class\n",
        "class Node: \n",
        "    def __init__(self, data): \n",
        "      self.data = data \n",
        "      self.left = None\n",
        "      self.right = None\n",
        "\n",
        "# A function to check if a binary tree is BST.\n",
        "    def isBST(root, left, right):\n",
        "      # Base case. An empty tree is a BST.\n",
        "      if root == None:\n",
        "        return 1\n",
        "      # Checking if a key is outside the permitted range.\n",
        "      if root.data <= left:\n",
        "        return 0\n",
        "      if root.data >= right:\n",
        "        return 0\n",
        "      # Sending in updates ranges to the right and left subtree\n",
        "      return isBST(root.right, root.data, right) and isBST(root.left, left, root.data) \n",
        "\n",
        "# Creating a BST\n",
        "root = Node(6) \n",
        "root.left = Node(7) \n",
        "root.right = Node(9) \n",
        "root.left.left = Node(1) \n",
        "root.left.right = Node(5) \n",
        "root.right.left = Node(7)\n",
        "root.right.right = Node(17)\n",
        "\n",
        "# Passing in the word size of the machine\n",
        "left = -sys.maxsize - 1\n",
        "right = sys.maxsize\n",
        "if(isBST(root, left, right)):\n",
        "  print(\"This binary tree is a BST.\")\n",
        "else:\n",
        "  print(\"This binary tree is not a BST.\")"
      ],
      "execution_count": null,
      "outputs": [
        {
          "output_type": "stream",
          "text": [
            "This binary tree is not a BST.\n"
          ],
          "name": "stdout"
        }
      ]
    },
    {
      "cell_type": "markdown",
      "metadata": {
        "id": "h_yD0jlX0BAY"
      },
      "source": [
        "## **Minimum Depth of Binary Tree**"
      ]
    },
    {
      "cell_type": "code",
      "metadata": {
        "id": "3RnSGi6c0BNw"
      },
      "source": [
        "# Definition for a binary tree node.\n",
        "class Node(object):\n",
        "     def __init__(self, val=0, left=None, right=None):\n",
        "        self.val = val\n",
        "        self.left = left\n",
        "        self.right = right    \n",
        "class TreeNode(object):\n",
        "    def minDepth(self, root):\n",
        "        \"\"\"\n",
        "        :type root: TreeNode\n",
        "        :rtype: int\n",
        "        \"\"\"\n",
        "        if root == None:\n",
        "            return 0\n",
        "        if root.left == None and root.right == None:\n",
        "            return 1\n",
        "        if not root.left:\n",
        "            return 1 + self.minDepth(root.right)\n",
        "        elif not root.right:\n",
        "            return 1 + self.minDepth(root.left)\n",
        "        return 1 + min(self.minDepth(root.left), self.minDepth(root.right))\n",
        "# Driver code\n",
        "root = Node(1)\n",
        "root.left = Node(2)\n",
        "root.right = Node(3)\n",
        "root.left.left = Node(4)\n",
        "root.right.left = Node(5)\n",
        "root.right.right = Node(6)\n",
        "root.right.right.left = Node(8)\n",
        "root.right.left.right = Node(7)\n",
        "# print(\"The min depth is:\", minDepth(root.data))"
      ],
      "execution_count": null,
      "outputs": []
    },
    {
      "cell_type": "markdown",
      "metadata": {
        "id": "-FHfpy-H_3wK"
      },
      "source": [
        "## **Invert Binary Tree**"
      ]
    },
    {
      "cell_type": "code",
      "metadata": {
        "id": "Mdbm_YiaOr_5"
      },
      "source": [
        "# Time:  O(n) Space: O(h)\n",
        "import collections\n",
        "# BFS solution.\n",
        "class Queue(object):\n",
        "    def __init__(self):\n",
        "        self.data = collections.deque()\n",
        "    def push(self, x):\n",
        "        self.data.append(x)\n",
        "    def peek(self):\n",
        "        return self.data[0]\n",
        "    def pop(self):\n",
        "        return self.data.popleft()\n",
        "    def size(self):\n",
        "        return len(self.data)\n",
        "    def empty(self):\n",
        "        return len(self.data) == 0\n",
        "\n",
        "# Definition for a binary tree node.\n",
        "class TreeNode:\n",
        "    def __init__(self, x):\n",
        "        self.val = x\n",
        "        self.left = None\n",
        "        self.right = None\n",
        "        \n",
        "class Solution(object):\n",
        "    def invertTree(self, root):\n",
        "        if root is not None:\n",
        "            nodes = Queue()\n",
        "            nodes.push(root)\n",
        "            while not nodes.empty():\n",
        "                node = nodes.pop()\n",
        "                node.left, node.right = node.right, node.left\n",
        "                if node.left is not None:\n",
        "                    nodes.push(node.left)\n",
        "                if node.right is not None:\n",
        "                    nodes.push(node.right)\n",
        "        return root"
      ],
      "execution_count": null,
      "outputs": []
    },
    {
      "cell_type": "code",
      "metadata": {
        "id": "W14xaBxrADoP"
      },
      "source": [
        "# Time:  O(n) Space: O(h)\n",
        "# Stack solution.\n",
        "class Solution2(object):\n",
        "    def invertTree(self, root):\n",
        "        if root is not None:\n",
        "            nodes = []\n",
        "            nodes.append(root)\n",
        "            while nodes:\n",
        "                node = nodes.pop()\n",
        "                node.left, node.right = node.right, node.left\n",
        "                if node.left is not None:\n",
        "                    nodes.append(node.left)\n",
        "                if node.right is not None:\n",
        "                    nodes.append(node.right)\n",
        "        return root"
      ],
      "execution_count": null,
      "outputs": []
    },
    {
      "cell_type": "code",
      "metadata": {
        "id": "dfAocj_MAuPO"
      },
      "source": [
        "# Time:  O(n)\n",
        "# Space: O(h)\n",
        "# DFS, Recursive solution.\n",
        "class Solution3(object):\n",
        "    def invertTree(self, root):\n",
        "        if root is not None:\n",
        "            root.left, root.right = self.invertTree(root.right), \\\n",
        "                                    self.invertTree(root.left)\n",
        "        return root"
      ],
      "execution_count": null,
      "outputs": []
    },
    {
      "cell_type": "code",
      "metadata": {
        "id": "3EjA9CFLCAVO"
      },
      "source": [
        "def invertTree(node):  \n",
        "    if (node == None): \n",
        "        return\n",
        "    else: \n",
        "        temp = node   \n",
        "        \"\"\" do the subtrees \"\"\"\n",
        "        invertTree(node.left)  \n",
        "        invertTree(node.right)  \n",
        "        \"\"\" swap the pointers in this node \"\"\"\n",
        "        temp = node.left  \n",
        "        node.left = node.right  \n",
        "        node.right = temp  "
      ],
      "execution_count": null,
      "outputs": []
    },
    {
      "cell_type": "markdown",
      "metadata": {
        "id": "m8J2XJacT76g"
      },
      "source": [
        "### **Everything Binary Trees by Pythonds**"
      ]
    },
    {
      "cell_type": "code",
      "metadata": {
        "id": "rfbIbErHT8Hu"
      },
      "source": [
        "class TreeNode:\n",
        "    def __init__(self, key, value, left=None, right=None, parent=None):\n",
        "        self.key = key\n",
        "        self.value = value\n",
        "        self.left_child = left\n",
        "        self.right_child = right\n",
        "        self.parent = parent\n",
        "\n",
        "    def is_left_child(self):\n",
        "        return self.parent and self.parent.left_child is self\n",
        "\n",
        "    def is_right_child(self):\n",
        "        return self.parent and self.parent.right_child is self\n",
        "\n",
        "    def is_root(self):\n",
        "        return not self.parent\n",
        "\n",
        "    def is_leaf(self):\n",
        "        return not (self.right_child or self.left_child)\n",
        "\n",
        "    def has_a_child(self):\n",
        "        return self.right_child or self.left_child\n",
        "\n",
        "    def has_children(self):\n",
        "        return self.right_child and self.left_child\n",
        "\n",
        "    def replace_value(self, key, value, left, right):\n",
        "        self.key = key\n",
        "        self.value = value\n",
        "        self.left_child = left\n",
        "        self.right_child = right\n",
        "        if self.left_child:\n",
        "            self.left_child.parent = self\n",
        "        if self.right_child:\n",
        "            self.right_child.parent = self\n",
        "\n",
        "    def find_successor(self):\n",
        "        successor = None\n",
        "        if self.right_child:\n",
        "            successor = self.right_child.find_min()\n",
        "        else:\n",
        "            if self.parent:\n",
        "                if self.is_left_child():\n",
        "                    successor = self.parent\n",
        "                else:\n",
        "                    self.parent.right_child = None\n",
        "                    successor = self.parent.find_successor()\n",
        "                    self.parent.right_child = self\n",
        "        return successor\n",
        "\n",
        "    def find_min(self):\n",
        "        current = self\n",
        "        while current.left_child:\n",
        "            current = current.left_child\n",
        "        return current\n",
        "\n",
        "    def splice_out(self):\n",
        "        if self.is_leaf():\n",
        "            if self.is_left_child():\n",
        "                self.parent.left_child = None\n",
        "            else:\n",
        "                self.parent.right_child = None\n",
        "        elif self.has_a_child():\n",
        "            if self.left_child:\n",
        "                if self.is_left_child():\n",
        "                    self.parent.left_child = self.left_child\n",
        "                else:\n",
        "                    self.parent.right_child = self.left_child\n",
        "                self.left_child.parent = self.parent\n",
        "            else:\n",
        "                if self.is_left_child():\n",
        "                    self.parent.left_child = self.right_child\n",
        "                else:\n",
        "                    self.parent.right_child = self.right_child\n",
        "                self.right_child.parent = self.parent\n",
        "\n",
        "    def __iter__(self):\n",
        "        if self:\n",
        "            if self.left_child:\n",
        "                for elem in self.left_child:\n",
        "                    yield elem\n",
        "            yield self.key\n",
        "            if self.right_child:\n",
        "                for elem in self.right_child:\n",
        "                    yield elem\n",
        "\n",
        "\n",
        "class BinarySearchTree:\n",
        "    def __init__(self):\n",
        "        self.root = None\n",
        "        self.size = 0\n",
        "\n",
        "    def __len__(self):\n",
        "        return self.size\n",
        "\n",
        "    def __iter__(self):\n",
        "        return self.root.__iter__()\n",
        "\n",
        "    def put(self, key, value):\n",
        "        if self.root:\n",
        "            self._put(key, value, self.root)\n",
        "        else:\n",
        "            self.root = TreeNode(key, value)\n",
        "        self.size = self.size + 1\n",
        "\n",
        "    def _put(self, key, value, current_node):\n",
        "        if key < current_node.key:\n",
        "            if current_node.left_child:\n",
        "                self._put(key, value, current_node.left_child)\n",
        "            else:\n",
        "                current_node.left_child = TreeNode(\n",
        "                    key, value, parent=current_node\n",
        "                )\n",
        "        else:\n",
        "            if current_node.right_child:\n",
        "                self._put(key, value, current_node.right_child)\n",
        "            else:\n",
        "                current_node.right_child = TreeNode(\n",
        "                    key, value, parent=current_node\n",
        "                )\n",
        "\n",
        "    def __setitem__(self, key, value):\n",
        "        self.put(key, value)\n",
        "\n",
        "    def get(self, key):\n",
        "        if self.root:\n",
        "            result = self._get(key, self.root)\n",
        "            if result:\n",
        "                return result.value\n",
        "        return None\n",
        "\n",
        "    def _get(self, key, current_node):\n",
        "        if not current_node:\n",
        "            return None\n",
        "        if current_node.key == key:\n",
        "            return current_node\n",
        "        elif key < current_node.key:\n",
        "            return self._get(key, current_node.left_child)\n",
        "        else:\n",
        "            return self._get(key, current_node.right_child)\n",
        "\n",
        "    def __getitem__(self, key):\n",
        "        return self.get(key)\n",
        "\n",
        "    def __contains__(self, key):\n",
        "        return bool(self._get(key, self.root))\n",
        "\n",
        "    def delete(self, key):\n",
        "        if self.size > 1:\n",
        "            node_to_remove = self._get(key, self.root)\n",
        "            if node_to_remove:\n",
        "                self._delete(node_to_remove)\n",
        "                self.size = self.size - 1\n",
        "            else:\n",
        "                raise KeyError(\"Error, key not in tree\")\n",
        "        elif self.size == 1 and self.root.key == key:\n",
        "            self.root = None\n",
        "            self.size = self.size - 1\n",
        "        else:\n",
        "            raise KeyError(\"Error, key not in tree\")\n",
        "\n",
        "    def _delete(self, current_node):\n",
        "        if current_node.is_leaf():  # removing a leaf\n",
        "            if current_node == current_node.parent.left_child:\n",
        "                current_node.parent.left_child = None\n",
        "            else:\n",
        "                current_node.parent.right_child = None\n",
        "        elif current_node.has_children():  # removing a node with two children\n",
        "            successor = current_node.find_successor()\n",
        "            successor.splice_out()\n",
        "            current_node.key = successor.key\n",
        "            current_node.value = successor.value\n",
        "        else:  # removing a node with one child\n",
        "            if current_node.left_child:\n",
        "                if current_node.is_left_child():\n",
        "                    current_node.left_child.parent = current_node.parent\n",
        "                    current_node.parent.left_child = current_node.left_child\n",
        "                elif current_node.is_right_child():\n",
        "                    current_node.left_child.parent = current_node.parent\n",
        "                    current_node.parent.right_child = current_node.left_child\n",
        "                else:\n",
        "                    current_node.replace_value(\n",
        "                        current_node.left_child.key,\n",
        "                        current_node.left_child.value,\n",
        "                        current_node.left_child.left_child,\n",
        "                        current_node.left_child.right_child,\n",
        "                    )\n",
        "            else:\n",
        "                if current_node.is_left_child():\n",
        "                    current_node.right_child.parent = current_node.parent\n",
        "                    current_node.parent.left_child = current_node.right_child\n",
        "                elif current_node.is_right_child():\n",
        "                    current_node.right_child.parent = current_node.parent\n",
        "                    current_node.parent.right_child = current_node.right_child\n",
        "                else:\n",
        "                    current_node.replace_value(\n",
        "                        current_node.right_child.key,\n",
        "                        current_node.right_child.value,\n",
        "                        current_node.right_child.left_child,\n",
        "                        current_node.right_child.right_child,\n",
        "                    )\n",
        "\n",
        "    def __delitem__(self, key):\n",
        "        self.delete(key)\n",
        "\n",
        "\n",
        "my_tree = BinarySearchTree()\n",
        "my_tree[\"a\"] = \"a\"\n",
        "my_tree[\"q\"] = \"quick\"\n",
        "my_tree[\"b\"] = \"brown\"\n",
        "my_tree[\"f\"] = \"fox\"\n",
        "my_tree[\"j\"] = \"jumps\"\n",
        "my_tree[\"o\"] = \"over\"\n",
        "my_tree[\"t\"] = \"the\"\n",
        "my_tree[\"l\"] = \"lazy\"\n",
        "my_tree[\"d\"] = \"dog\"\n",
        "\n",
        "print(my_tree[\"q\"])\n",
        "print(my_tree[\"l\"])\n",
        "print(\"There are {} items in this tree\".format(len(my_tree)))\n",
        "my_tree.delete(\"a\")\n",
        "print(\"There are {} items in this tree\".format(len(my_tree)))\n",
        "\n",
        "for node in my_tree:\n",
        "    print(my_tree[node], end=\" \")\n",
        "print()"
      ],
      "execution_count": null,
      "outputs": []
    },
    {
      "cell_type": "markdown",
      "metadata": {
        "id": "H2j6avs8PF9R"
      },
      "source": [
        ""
      ]
    },
    {
      "cell_type": "markdown",
      "metadata": {
        "id": "CM3xhhASyKyN"
      },
      "source": [
        "#**LINKEDLISTS**"
      ]
    },
    {
      "cell_type": "markdown",
      "metadata": {
        "id": "M-JsKsiCyPL-"
      },
      "source": [
        "The basic building block for the linked list implementation is the node.Each node object must hold at least two pieces of information. First, the node \n",
        "must contain the list item itself. We will call this the **data field** of the node. In addition, each node must hold a **reference** to the **next nod**\n",
        "\n",
        "\n",
        "---\n",
        "\n",
        "\n",
        "The location of the first item of the list must be explicitly specified. Once we know where the first item is, the first item can tell us where the second is, and so on. \n",
        "\n",
        "---\n",
        "\n",
        "\n",
        "The external reference is often referred to as the **head** of the list. Similarly, the **last** item needs to know that there is no next item\n",
        "\n",
        "\n",
        "---\n",
        "A reference to **None** will denote the fact that there is **no next node**. Note in the constructor that a node is initially created with next set to None\n"
      ]
    },
    {
      "cell_type": "markdown",
      "metadata": {
        "id": "jnvoiq2MzQLv"
      },
      "source": [
        "## **Implementation of Linked List**"
      ]
    },
    {
      "cell_type": "markdown",
      "metadata": {
        "id": "k95qriqG_zQE"
      },
      "source": [
        "### **The Unordered List Class**\n",
        "Built from a collection of nodes, each linked to the next by explicit references. As long as we know where to find the first node, each item after that can be found by successively following the next links. With this in mind, the UnorderedList class must maintain a reference to the first node"
      ]
    },
    {
      "cell_type": "code",
      "metadata": {
        "colab": {
          "base_uri": "https://localhost:8080/"
        },
        "id": "taBj0jUCzPqS",
        "outputId": "eae0c9e0-a7e3-4a87-8661-6c69a1f560a2"
      },
      "source": [
        "class Node:\n",
        "    def __init__(self,initdata):\n",
        "        self.data = initdata\n",
        "        self.next = None\n",
        "\n",
        "    def getData(self):\n",
        "        return self.data\n",
        "\n",
        "    def getNext(self):\n",
        "        return self.next\n",
        "\n",
        "    def setData(self,newdata):\n",
        "        self.data = newdata\n",
        "\n",
        "    def setNext(self,newnext):\n",
        "        self.next = newnext\n",
        "\n",
        "\n",
        "class UnorderedList:\n",
        "\n",
        "    def __init__(self):\n",
        "        self.head = None\n",
        "\n",
        "    def isEmpty(self):\n",
        "        return self.head == None\n",
        "\n",
        "    def add(self,item):\n",
        "        temp = Node(item)\n",
        "        temp.setNext(self.head)\n",
        "        self.head = temp\n",
        "\n",
        "    def size(self):\n",
        "        current = self.head\n",
        "        count = 0\n",
        "        while current != None:\n",
        "            count = count + 1\n",
        "            current = current.getNext()\n",
        "\n",
        "        return count\n",
        "\n",
        "    def search(self,item):\n",
        "        current = self.head\n",
        "        found = False\n",
        "        while current != None and not found:\n",
        "            if current.getData() == item:\n",
        "                found = True\n",
        "            else:\n",
        "                current = current.getNext()\n",
        "\n",
        "        return found\n",
        "\n",
        "    def remove(self,item):\n",
        "        current = self.head\n",
        "        previous = None\n",
        "        found = False\n",
        "        while not found:\n",
        "            if current.getData() == item:\n",
        "                found = True\n",
        "            else:\n",
        "                previous = current\n",
        "                current = current.getNext()\n",
        "\n",
        "        if previous == None:\n",
        "            self.head = current.getNext()\n",
        "        else:\n",
        "            previous.setNext(current.getNext())\n",
        "\n",
        "mylist = UnorderedList()\n",
        "\n",
        "mylist.add(31)\n",
        "mylist.add(77)\n",
        "mylist.add(17)\n",
        "mylist.add(93)\n",
        "mylist.add(26)\n",
        "mylist.add(54)\n",
        "\n",
        "print(mylist.size())\n",
        "print(mylist.search(93))\n",
        "print(mylist.search(100))\n",
        "\n",
        "mylist.add(100)\n",
        "print(mylist.search(100))\n",
        "print(mylist.size())\n",
        "\n",
        "mylist.remove(54)\n",
        "print(mylist.size())\n",
        "mylist.remove(93)\n",
        "print(mylist.size())\n",
        "mylist.remove(31)\n",
        "print(mylist.size())\n",
        "print(mylist.search(93))"
      ],
      "execution_count": null,
      "outputs": [
        {
          "output_type": "stream",
          "text": [
            "6\n",
            "True\n",
            "False\n",
            "True\n",
            "7\n",
            "6\n",
            "5\n",
            "4\n",
            "False\n"
          ],
          "name": "stdout"
        }
      ]
    },
    {
      "cell_type": "markdown",
      "metadata": {
        "id": "LQaCCMG_FKFD"
      },
      "source": [
        "### **Linked list has a cycle**\n",
        "Given head, the head of a linked list, determine if the linked list has a cycle in it.\n",
        "\n",
        "There is a cycle in a linked list if there is some node in the list that can be reached again by continuously following the next pointer. Internally, pos is used to denote the index of the node that tail’s next pointer is connected to. Note that pos is not passed as a parameter.\n",
        "\n",
        "Return true if there is a cycle in the linked list. Otherwise, return false."
      ]
    },
    {
      "cell_type": "code",
      "metadata": {
        "id": "yyvVzZUPFQNQ"
      },
      "source": [
        "class Solution(object):\n",
        "    def hasCycle(self, head):\n",
        "        \"\"\"\n",
        "        :type head: ListNode\n",
        "        :rtype: bool\n",
        "        \"\"\"\n",
        "        fast = slow = head\n",
        "        while fast and fast.next:\n",
        "            fast = fast.next.next\n",
        "            slow = slow.next\n",
        "            if slow == fast:\n",
        "                return True\n",
        "        return False"
      ],
      "execution_count": null,
      "outputs": []
    },
    {
      "cell_type": "markdown",
      "metadata": {
        "id": "pHKCB-cmGBM7"
      },
      "source": [
        "Given a linked list, return the node where the cycle begins. If there is no cycle, return null.There is a cycle in a linked list if there is some node in the list that can be reached again by continuously following the next pointer. Internally, pos is used to denote the index of the node that tail’s next pointer is connected to. Note that pos is not passed as a parameter.\n",
        "Notice that you should not modify the linked list.\n",
        "Follow up:\n",
        "Can you solve it using O(1) (i.e. constant) memory?"
      ]
    },
    {
      "cell_type": "code",
      "metadata": {
        "id": "qRQs1orTIW1D"
      },
      "source": [
        "# Time:  O(n)\n",
        "# Space: O(1)\n",
        "class ListNode(object):\n",
        "    def __init__(self, x):\n",
        "        self.val = x\n",
        "        self.next = None\n",
        "class Solution(object):\n",
        "    def removeElements(self, head, val):\n",
        "        dummy = ListNode(float(\"-inf\"))\n",
        "        dummy.next = head\n",
        "        prev, curr = dummy, dummy.next\n",
        "        while curr:\n",
        "            if curr.val == val:\n",
        "                prev.next = curr.next\n",
        "            else:\n",
        "                prev = curr\n",
        "            curr = curr.next\n",
        "        return dummy.next"
      ],
      "execution_count": null,
      "outputs": []
    },
    {
      "cell_type": "markdown",
      "metadata": {
        "id": "X2LTj-uyRtgI"
      },
      "source": [
        "## **Linked List | Set 3 (Deleting a node)**"
      ]
    },
    {
      "cell_type": "code",
      "metadata": {
        "colab": {
          "base_uri": "https://localhost:8080/"
        },
        "id": "aNErewxuUmhR",
        "outputId": "a0a286ce-c5a4-42fe-dd29-0625d41783cb"
      },
      "source": [
        "class Node: \n",
        "    def __init__(self, data): \n",
        "        self.data = data \n",
        "        self.next = None\n",
        "class LinkedList: \n",
        "    def __init__(self): \n",
        "        self.head = None\n",
        "    def push(self, new_data): \n",
        "        new_node = Node(new_data) \n",
        "        new_node.next = self.head \n",
        "        self.head = new_node \n",
        "    def deleteNode(self, key):  \n",
        "        temp = self.head \n",
        "        if (temp is not None): \n",
        "            if (temp.data == key): \n",
        "                self.head = temp.next\n",
        "                temp = None\n",
        "                return\n",
        "        while(temp is not None): \n",
        "            if temp.data == key: \n",
        "                break\n",
        "            prev = temp \n",
        "            temp = temp.next\n",
        "        if(temp == None): \n",
        "            return\n",
        "        prev.next = temp.next\n",
        "        temp = None\n",
        "    def printList(self): \n",
        "        temp = self.head \n",
        "        while(temp): \n",
        "            print (\" %d\" %(temp.data)), \n",
        "            temp = temp.next\n",
        "# Driver program \n",
        "llist = LinkedList() \n",
        "llist.push(7) \n",
        "llist.push(1) \n",
        "llist.push(3) \n",
        "llist.push(2) \n",
        "print (\"Created Linked List: \")\n",
        "llist.printList() \n",
        "llist.deleteNode(1) \n",
        "print (\"\\nLinked List after Deletion of 1:\")\n",
        "llist.printList() "
      ],
      "execution_count": null,
      "outputs": [
        {
          "output_type": "stream",
          "text": [
            "Created Linked List: \n",
            " 2\n",
            " 3\n",
            " 1\n",
            " 7\n",
            "\n",
            "Linked List after Deletion of 1:\n",
            " 2\n",
            " 3\n",
            " 7\n"
          ],
          "name": "stdout"
        }
      ]
    },
    {
      "cell_type": "markdown",
      "metadata": {
        "id": "PQUBmY55XjyF"
      },
      "source": [
        "##**Check if a linked list is circular**"
      ]
    },
    {
      "cell_type": "code",
      "metadata": {
        "colab": {
          "base_uri": "https://localhost:8080/"
        },
        "id": "ofBdlAtHXj_k",
        "outputId": "e968f4de-3493-43fb-a6cc-5c3c52018444"
      },
      "source": [
        "class Node:   \n",
        "    def __init__(self, data):  \n",
        "        self.data = data \n",
        "        self.next = None \n",
        "\n",
        "class LinkedList:   \n",
        "    def __init__(self):  \n",
        "        self.head = None\n",
        "\n",
        "def Circular(head): \n",
        "    if head==None: \n",
        "        return True\n",
        "    node = head.next\n",
        "    i = 0\n",
        "    while((node is not None) and (node is not head)): \n",
        "        i = i + 1\n",
        "        node = node.next\n",
        "    return(node==head) \n",
        "  \n",
        "# Code execution starts here  \n",
        "if __name__=='__main__': \n",
        "    llist = LinkedList()  \n",
        "    llist.head = Node(1) \n",
        "    second = Node(2) \n",
        "    third = Node(3)  \n",
        "    fourth = Node(4) \n",
        "      \n",
        "    #test1\n",
        "    llist.head.next = second; \n",
        "    second.next = third; \n",
        "    third.next = fourth   \n",
        "    if (Circular(llist.head)): \n",
        "        print('Yes') \n",
        "    else: \n",
        "        print('No') \n",
        "    #test2\n",
        "    fourth.next = llist.head \n",
        "    if (Circular(llist.head)): \n",
        "        print('Yes') \n",
        "    else: \n",
        "        print('No') "
      ],
      "execution_count": null,
      "outputs": [
        {
          "output_type": "stream",
          "text": [
            "No\n",
            "Yes\n"
          ],
          "name": "stdout"
        }
      ]
    },
    {
      "cell_type": "markdown",
      "metadata": {
        "id": "neQctmUdJMgY"
      },
      "source": [
        "### **Intersection of Two Linked Lists**\n",
        "Write a program to find the node at which the intersection of two singly linked lists begins."
      ]
    },
    {
      "cell_type": "code",
      "metadata": {
        "id": "Nz9jS8LzIq66"
      },
      "source": [
        "# Time:  O(m + n)\n",
        "# Space: O(1)\n",
        "#Definition for singly-linked list.\n",
        "class ListNode(object):\n",
        "    def __init__(self, x):\n",
        "        self.val = x\n",
        "        self.next = None\n",
        "class Solution(object):\n",
        "    def getIntersectionNode(self, headA, headB):\n",
        "        \"\"\"\n",
        "        :type head1, head1: ListNode\n",
        "        :rtype: ListNode\n",
        "        \"\"\"\n",
        "        curA, curB = headA, headB\n",
        "        while curA != curB:\n",
        "            curA = curA.next if curA else headB\n",
        "            curB = curB.next if curB else headA\n",
        "        return curA"
      ],
      "execution_count": null,
      "outputs": []
    },
    {
      "cell_type": "markdown",
      "metadata": {
        "id": "g9SJpjovbwJB"
      },
      "source": [
        "# **STACKS**"
      ]
    },
    {
      "cell_type": "markdown",
      "metadata": {
        "id": "eMCvYmC4btnl"
      },
      "source": [
        "A **stack** is a data structure that stores items in an **Last-In/First-Out** manner. This is frequently referred to as LIFO. "
      ]
    },
    {
      "cell_type": "markdown",
      "metadata": {
        "id": "cFJqxpgzXJFu"
      },
      "source": [
        "## **Stack Implementation Using Lists**"
      ]
    },
    {
      "cell_type": "code",
      "metadata": {
        "colab": {
          "base_uri": "https://localhost:8080/"
        },
        "id": "c4tXNRyAWupe",
        "outputId": "86706fe9-61ea-4d56-a5ce-72be5c597222"
      },
      "source": [
        "class Stack:\n",
        "     def __init__(self):\n",
        "         self.items = []\n",
        "\n",
        "     def isEmpty(self):\n",
        "         return self.items == []\n",
        "\n",
        "     def push(self, item):\n",
        "         self.items.append(item)\n",
        "\n",
        "     def pop(self):\n",
        "         return self.items.pop()\n",
        "\n",
        "     def peek(self):\n",
        "         return self.items[len(self.items)-1]\n",
        "\n",
        "     def size(self):\n",
        "         return len(self.items)\n",
        "s=Stack()\n",
        "print(s.isEmpty())\n",
        "s.push(4)\n",
        "s.push('dog')\n",
        "print(s.peek())\n",
        "s.push(True)\n",
        "print(s.size())\n",
        "print(s.isEmpty())\n",
        "s.push(8.4)\n",
        "print(s.pop())\n",
        "print(s.pop())\n",
        "print(s.size())"
      ],
      "execution_count": null,
      "outputs": [
        {
          "output_type": "stream",
          "text": [
            "True\n",
            "dog\n",
            "3\n",
            "False\n",
            "8.4\n",
            "True\n",
            "2\n"
          ],
          "name": "stdout"
        }
      ]
    },
    {
      "cell_type": "markdown",
      "metadata": {
        "id": "XxOrXbyQetIc"
      },
      "source": [
        "## **Stack Implementation Using Linked Lists**"
      ]
    },
    {
      "cell_type": "code",
      "metadata": {
        "colab": {
          "base_uri": "https://localhost:8080/"
        },
        "id": "0eNUrDPdenBw",
        "outputId": "a1e3e3e9-e425-45d2-9139-75212809fe73"
      },
      "source": [
        "class Node:\n",
        "   def __init__(self, value):\n",
        "      self.value = value\n",
        "      self.next = None\n",
        " \n",
        "class Stack:\n",
        "    \n",
        "   # Initializing a stack. Use a dummy node, which is easier for handling edge cases. \n",
        "   def __init__(self):\n",
        "      self.head = Node(\"head\")\n",
        "      self.size = 0\n",
        " \n",
        "   # String representation of the stack\n",
        "   def __str__(self):\n",
        "      cur = self.head.next\n",
        "      out = \"\"\n",
        "      while cur:\n",
        "         out += str(cur.value) + \"->\"\n",
        "         cur = cur.next\n",
        "      return out[:-3]   \n",
        " \n",
        "   # Get the current size of the stack\n",
        "   def getSize(self):\n",
        "      return self.size\n",
        "    \n",
        "   # Check if the stack is empty\n",
        "   def isEmpty(self):\n",
        "      return self.size == 0\n",
        "    \n",
        "   # Get the top item of the stack\n",
        "   def peek(self): \n",
        "      # Sanitary check to see if we are peeking an empty stack. \n",
        "      if self.isEmpty():\n",
        "         raise Exception(\"Peeking from an empty stack\")\n",
        "      return self.head.next.value\n",
        " \n",
        "   # Push a value into the stack. \n",
        "   def push(self, value):\n",
        "      node = Node(value)\n",
        "      node.next = self.head.next\n",
        "      self.head.next = node\n",
        "      self.size += 1\n",
        "      \n",
        "   # Remove a value from the stack and return. \n",
        "   def pop(self):\n",
        "      if self.isEmpty():\n",
        "         raise Exception(\"Popping from an empty stack\")\n",
        "      remove = self.head.next\n",
        "      self.head.next = self.head.next.next\n",
        "      self.size -= 1\n",
        "      return remove.value\n",
        " \n",
        "# Driver Code\n",
        "if __name__ == \"__main__\":\n",
        "   stack = Stack()\n",
        "   for i in range(1, 11):\n",
        "      stack.push(i)\n",
        "   print(f\"Stack: {stack}\")\n",
        " \n",
        "   for _ in range(1, 6):\n",
        "      remove = stack.pop()\n",
        "      print(f\"Pop: {remove}\")\n",
        "   print(f\"Stack: {stack}\")"
      ],
      "execution_count": null,
      "outputs": [
        {
          "output_type": "stream",
          "text": [
            "Stack: 10->9->8->7->6->5->4->3->2->\n",
            "Pop: 10\n",
            "Pop: 9\n",
            "Pop: 8\n",
            "Pop: 7\n",
            "Pop: 6\n",
            "Stack: 5->4->3->2->\n"
          ],
          "name": "stdout"
        }
      ]
    },
    {
      "cell_type": "markdown",
      "metadata": {
        "id": "AmWjLmNifM_e"
      },
      "source": [
        "## **Applications of Stack**"
      ]
    },
    {
      "cell_type": "markdown",
      "metadata": {
        "id": "UjBaIjYWZAqM"
      },
      "source": [
        "### **Balanced Symbols**\n",
        "Strings of symbols such as are properly balanced in that not only does each \n",
        "opening symbol have a corresponding closing symbol, but the types of symbols match as well.\n",
        "\n",
        "---\n",
        "\n",
        "\n",
        "Each opening symbol is simply pushed on the stack to wait for the \n",
        "matching closing symbol to appear later in the sequence. When a closing symbol does appear, we must check to be sure that it correctly matches the type of the opening symbol on top of the stack. \n",
        "\n",
        "---\n",
        "\n",
        "\n",
        "If the two symbols do not match, the string \n",
        "is not balanced. Once again, if the entire string is processed and nothing is left on the stack, the string is correctly balanced.\n",
        "\n"
      ]
    },
    {
      "cell_type": "code",
      "metadata": {
        "colab": {
          "base_uri": "https://localhost:8080/"
        },
        "id": "9rxKvFdJZCoG",
        "outputId": "d21d0af6-d746-4d7d-947b-81bfecf9525e"
      },
      "source": [
        "from collections import deque\n",
        "def parChecker(symbolString):\n",
        "    s = Stack()\n",
        "    balanced = True\n",
        "    index = 0\n",
        "    while index < len(symbolString) and balanced:\n",
        "        symbol = symbolString[index]\n",
        "        if symbol in \"([{\":\n",
        "            s.push(symbol)\n",
        "        else:\n",
        "            if s.isEmpty():\n",
        "                balanced = False\n",
        "            else:\n",
        "                top = s.pop()\n",
        "                if not matches(top,symbol):\n",
        "                       balanced = False\n",
        "        index = index + 1\n",
        "    if balanced and s.isEmpty():\n",
        "        return True\n",
        "    else:\n",
        "        return False\n",
        "        \n",
        "def matches(open,close):\n",
        "    opens = \"([{\"\n",
        "    closers = \")]}\"\n",
        "    return opens.index(open) == closers.index(close)\n",
        "print(parChecker('{({([][])}())}'))\n",
        "print(parChecker('[{()]'))"
      ],
      "execution_count": null,
      "outputs": [
        {
          "output_type": "stream",
          "text": [
            "True\n",
            "False\n"
          ],
          "name": "stdout"
        }
      ]
    },
    {
      "cell_type": "markdown",
      "metadata": {
        "id": "EpbUJI1__NQw"
      },
      "source": [
        "Given a string s containing just the characters ‘(‘, ‘)’, ‘{‘, ‘}’, ‘[’ and ‘]’, determine if the input string is valid.\n",
        "An input string is valid if:\n",
        "Open brackets must be closed by the same type of brackets.\n",
        "Open brackets must be closed in the correct order."
      ]
    },
    {
      "cell_type": "code",
      "metadata": {
        "id": "5TQlIB46_PXD"
      },
      "source": [
        "class Solution(object):\n",
        "    def isValid(self, s):\n",
        "        \"\"\"\n",
        "        :type s: str\n",
        "        :rtype: bool\n",
        "        \"\"\"\n",
        "        stack = []\n",
        "        dic = {']':'[', ')':'(', '}':'{'}\n",
        "        for c in s:\n",
        "            if c not in dic:\n",
        "                stack.append(c)\n",
        "            else:\n",
        "                if not stack or stack.pop() != dic[c]:\n",
        "                    return False\n",
        "        return stack == []"
      ],
      "execution_count": null,
      "outputs": []
    },
    {
      "cell_type": "markdown",
      "metadata": {
        "id": "-zTOOWa_gksf"
      },
      "source": [
        "### **Converting Decimal Numbers to Binary Numbers**"
      ]
    },
    {
      "cell_type": "markdown",
      "metadata": {
        "id": "McP4uiWcgnjQ"
      },
      "source": [
        "We convert an interger into binary using an algorithm called **Divide by 2** that uses a stack to keep track of the digits for the binary result.The Divide by 2 algorithm assumes that we start with an integer greater than 0. A simple iteration then continually divides the decimal number by 2 and keeps track of the remainder.\n",
        "\n",
        "---\n",
        "\n",
        "\n",
        "The first division by 2 gives information as to whether the value is even or odd. An even value will have a remainder of 0. It will have the digit 0 in the ones place. An odd value will have a remainder of 1 and will have the digit 1 in the ones place. We think about building our binary number as a sequence of digits; the first remainder we compute will actually be the last digit in the sequence.  "
      ]
    },
    {
      "cell_type": "code",
      "metadata": {
        "colab": {
          "base_uri": "https://localhost:8080/"
        },
        "id": "WRy7CP4VhO9V",
        "outputId": "32244033-cd9a-4cfd-e41b-1cb90fc83bd4"
      },
      "source": [
        "from collections import deque\n",
        "def divideBy2(decNumber):\n",
        "    remstack = Stack()\n",
        "    while decNumber > 0:\n",
        "        rem = decNumber % 2\n",
        "        remstack.push(rem)\n",
        "        decNumber = decNumber // 2\n",
        "    binString = \"\"\n",
        "    while not remstack.isEmpty():\n",
        "        binString = binString + str(remstack.pop())\n",
        "    return binString\n",
        "print(divideBy2(456))"
      ],
      "execution_count": null,
      "outputs": [
        {
          "output_type": "stream",
          "text": [
            "111001000\n"
          ],
          "name": "stdout"
        }
      ]
    },
    {
      "cell_type": "code",
      "metadata": {
        "colab": {
          "base_uri": "https://localhost:8080/"
        },
        "id": "VuaYylN3i0Ub",
        "outputId": "fbff0385-0e3b-493c-d526-87c571fdfc2b"
      },
      "source": [
        "def baseConverter(decNumber,base):\n",
        "    digits = \"0123456789ABCDEF\"\n",
        "    remstack = Stack()\n",
        "    while decNumber > 0:\n",
        "        rem = decNumber % base\n",
        "        remstack.push(rem)\n",
        "        decNumber = decNumber // base\n",
        "    newString = \"\"\n",
        "    while not remstack.isEmpty():\n",
        "        newString = newString + digits[remstack.pop()]\n",
        "    return newString\n",
        "print(baseConverter(25,2))\n",
        "print(baseConverter(25,16))"
      ],
      "execution_count": null,
      "outputs": [
        {
          "output_type": "stream",
          "text": [
            "11001\n",
            "19\n"
          ],
          "name": "stdout"
        }
      ]
    },
    {
      "cell_type": "markdown",
      "metadata": {
        "id": "VqTFuKKro47u"
      },
      "source": [
        "#**QUEUES**"
      ]
    },
    {
      "cell_type": "markdown",
      "metadata": {
        "id": "_kx4CjsEoyuj"
      },
      "source": [
        "A queue is an ordered collection of items where the addition of new items happens at one end, called the “rear,” and the removal of existing items occurs at the other end, commonly called the “front.” \n",
        "\n",
        "---\n",
        "\n",
        "\n",
        "As an element enters the queue it starts at the rear and makes its way toward the front, waiting until that time when it is the next element to be removed.\n",
        ".The item that has been in the collection the longest is at the front.\n",
        "\n",
        "\n",
        "---\n",
        "\n",
        "\n",
        "This ordering principle is sometimes called FIFO, first-in first-out. It is also known as “first-come first-served.”"
      ]
    },
    {
      "cell_type": "markdown",
      "metadata": {
        "id": "hFyY4Oqyp8NV"
      },
      "source": [
        "## **Implementing a Queue**"
      ]
    },
    {
      "cell_type": "code",
      "metadata": {
        "colab": {
          "base_uri": "https://localhost:8080/"
        },
        "id": "lITmBAO0o3lO",
        "outputId": "f6fb3112-3032-474b-e3aa-3f439f4a088f"
      },
      "source": [
        "class Queue:\n",
        "    def __init__(self):\n",
        "        self.items = []\n",
        "\n",
        "    def isEmpty(self):\n",
        "        return self.items == []\n",
        "\n",
        "    def enqueue(self, item):\n",
        "        self.items.insert(0,item)\n",
        "\n",
        "    def dequeue(self):\n",
        "        return self.items.pop()\n",
        "\n",
        "    def size(self):\n",
        "        return len(self.items)\n",
        "q=Queue()\n",
        "q.enqueue(4)\n",
        "q.enqueue('dog')\n",
        "q.enqueue(True)\n",
        "print(q.size())"
      ],
      "execution_count": null,
      "outputs": [
        {
          "output_type": "stream",
          "text": [
            "3\n"
          ],
          "name": "stdout"
        }
      ]
    },
    {
      "cell_type": "markdown",
      "metadata": {
        "id": "DbZ-8v42rbcf"
      },
      "source": [
        "### **Hot Potato Game**"
      ]
    },
    {
      "cell_type": "code",
      "metadata": {
        "colab": {
          "base_uri": "https://localhost:8080/"
        },
        "id": "ZUZdkp82rgSv",
        "outputId": "0ee1efa3-0198-47fa-e938-58bec958ee2f"
      },
      "source": [
        "def hotPotato(namelist, num):\n",
        "    simqueue = Queue()\n",
        "    for name in namelist:\n",
        "        simqueue.enqueue(name)\n",
        "\n",
        "    while simqueue.size() > 1:\n",
        "        for i in range(num):\n",
        "            simqueue.enqueue(simqueue.dequeue())\n",
        "\n",
        "        simqueue.dequeue()\n",
        "\n",
        "    return simqueue.dequeue()\n",
        "\n",
        "print(hotPotato([\"Bill\",\"David\",\"Susan\",\"Jane\",\"Kent\",\"Brad\"],7))"
      ],
      "execution_count": null,
      "outputs": [
        {
          "output_type": "stream",
          "text": [
            "Susan\n"
          ],
          "name": "stdout"
        }
      ]
    },
    {
      "cell_type": "markdown",
      "metadata": {
        "id": "COM7gzA6wGau"
      },
      "source": [
        "##**Implementing a Deque**"
      ]
    },
    {
      "cell_type": "code",
      "metadata": {
        "id": "AcN2nNY3weDw"
      },
      "source": [
        "class Deque:\n",
        "    def __init__(self):\n",
        "        self.items = []\n",
        "    def isEmpty(self):\n",
        "        return self.items == []\n",
        "    def addFront(self, item):\n",
        "        self.items.append(item)\n",
        "    def addRear(self, item):\n",
        "        self.items.insert(0,item)\n",
        "    def removeFront(self):\n",
        "        return self.items.pop()\n",
        "    def removeRear(self):\n",
        "        return self.items.pop(0)\n",
        "    def size(self):\n",
        "        return len(self.items)"
      ],
      "execution_count": null,
      "outputs": []
    },
    {
      "cell_type": "markdown",
      "metadata": {
        "id": "9d0IcOKJwwV4"
      },
      "source": [
        "###**Palindrome-Checker**\n",
        "An interesting problem that can be easily solved using the deque data structure is the classic palindrome problem. A palindrome is a string that reads the same forward and backward, for example, radar, toot, and madam. We would like to construct an algorithm to input a string of characters and check whether it is a palindrome.\n",
        "\n"
      ]
    },
    {
      "cell_type": "code",
      "metadata": {
        "colab": {
          "base_uri": "https://localhost:8080/"
        },
        "id": "jn-tABzUw4Fo",
        "outputId": "87f92bf2-3121-4304-c5d5-88c69c22a423"
      },
      "source": [
        "def palchecker(aString):\n",
        "    chardeque = Deque()\n",
        "    for ch in aString:\n",
        "        chardeque.addRear(ch)\n",
        "    stillEqual = True\n",
        "    while chardeque.size() > 1 and stillEqual:\n",
        "        first = chardeque.removeFront()\n",
        "        last = chardeque.removeRear()\n",
        "        if first != last:\n",
        "            stillEqual = False\n",
        "    return stillEqual\n",
        "print(palchecker(\"lsdkjfskf\"))\n",
        "print(palchecker(\"radar\"))"
      ],
      "execution_count": null,
      "outputs": [
        {
          "output_type": "stream",
          "text": [
            "False\n",
            "True\n"
          ],
          "name": "stdout"
        }
      ]
    }
  ]
}